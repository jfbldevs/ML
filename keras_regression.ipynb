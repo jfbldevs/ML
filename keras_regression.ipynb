{
  "nbformat": 4,
  "nbformat_minor": 0,
  "metadata": {
    "colab": {
      "name": "Untitled131.ipynb",
      "provenance": []
    },
    "kernelspec": {
      "name": "python3",
      "display_name": "Python 3"
    },
    "language_info": {
      "name": "python"
    },
    "accelerator": "TPU"
  },
  "cells": [
    {
      "cell_type": "code",
      "execution_count": null,
      "metadata": {
        "id": "9DutS-B4ICUV"
      },
      "outputs": [],
      "source": [
        "# Import required libraries\n",
        "import pandas as pd\n",
        "import numpy as np \n",
        "import matplotlib.pyplot as plt\n",
        "import sklearn\n",
        "\n",
        "# Import necessary modules\n",
        "from sklearn.model_selection import train_test_split\n",
        "from sklearn.metrics import mean_squared_error, mean_absolute_error, mean_absolute_percentage_error\n",
        "from sklearn.metrics import r2_score\n",
        "from keras import metrics\n",
        "from math import sqrt\n",
        "\n",
        "# Keras specific\n",
        "import keras\n",
        "from keras.models import Sequential\n",
        "from keras.layers import Dense"
      ]
    },
    {
      "cell_type": "code",
      "source": [
        "df = pd.read_csv('/content/merged_data_imput.csv') \n",
        "print(df.shape)\n",
        "df.describe()"
      ],
      "metadata": {
        "id": "GtxuLZlqcYng"
      },
      "execution_count": null,
      "outputs": []
    },
    {
      "cell_type": "code",
      "source": [
        "#X = df[['Humedad','Temperatura', 'Mp10']]\n",
        "X = df[['Temperatura']]\n",
        "y = df['Mp2_5']\n",
        "\n",
        "X_train, X_test, y_train, y_test = train_test_split(X, y, test_size=0.20, random_state=42)\n",
        "print(X_train.shape); print(X_test.shape)"
      ],
      "metadata": {
        "id": "UBGgTUq1cdB3"
      },
      "execution_count": null,
      "outputs": []
    },
    {
      "cell_type": "code",
      "source": [
        "# Define model\n",
        "model = Sequential()\n",
        "model.add(Dense(500, input_dim=1, activation= \"relu\")) #Eyes with dims\n",
        "model.add(Dense(100, activation= \"relu\"))\n",
        "model.add(Dense(50, activation= \"relu\"))\n",
        "model.add(Dense(1))\n",
        "#model.summary() #Print model Summary"
      ],
      "metadata": {
        "id": "zM7gO3k_cngG"
      },
      "execution_count": null,
      "outputs": []
    },
    {
      "cell_type": "code",
      "source": [
        "#model.compile(loss= \"mean_squared_error\" , optimizer=\"adam\", metrics=[\"mean_squared_error\"])\n",
        "\n",
        "model.compile(loss='mse', optimizer='adam', \n",
        "            metrics=['mean_squared_error', \n",
        "                    'mean_absolute_error'])\n",
        "\n",
        "model.fit(X_train, y_train, epochs=20)"
      ],
      "metadata": {
        "id": "ly6tIT5TcuEL"
      },
      "execution_count": null,
      "outputs": []
    },
    {
      "cell_type": "code",
      "source": [
        "pred_train= model.predict(X_train)\n",
        "print(\"TRAINING\")\n",
        "print(np.sqrt(mean_squared_error(y_train,pred_train)))\n",
        "r2 = r2_score(y_train, pred_train)\n",
        "print(r2)\n",
        "print(np.sqrt(mean_absolute_error(y_train,pred_train)))\n",
        "print(\"\\n\")\n",
        "pred= model.predict(X_test)\n",
        "print(\"TESTING\")\n",
        "print(np.sqrt(mean_squared_error(y_test,pred))) \n",
        "r2 = r2_score(y_test,pred)\n",
        "print(r2)\n",
        "print(np.sqrt(mean_absolute_error(y_test,pred))) \n"
      ],
      "metadata": {
        "id": "b2H7YeCTcxYQ"
      },
      "execution_count": null,
      "outputs": []
    }
  ]
}