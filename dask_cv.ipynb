{
 "cells": [
  {
   "cell_type": "code",
   "execution_count": null,
   "metadata": {},
   "outputs": [],
   "source": [
    "#using dask\n",
    "from dask.distributed import Client\n",
    "client = Client()\n",
    "client"
   ]
  },
  {
   "cell_type": "code",
   "execution_count": null,
   "metadata": {},
   "outputs": [],
   "source": [
    "import pandas as pd\n",
    "from sklearn.datasets import make_classification\n",
    "from sklearn.model_selection import KFold\n",
    "from sklearn.model_selection import cross_val_score\n",
    "from sklearn.linear_model import LogisticRegression\n",
    "from sklearn.neural_network import MLPClassifier\n",
    "from sklearn.ensemble import RandomForestClassifier\n",
    "from sklearn.ensemble import GradientBoostingClassifier\n",
    "from sklearn.ensemble import ExtraTreesClassifier\n",
    "from sklearn.naive_bayes import GaussianNB\n",
    "from lightgbm import LGBMClassifier\n",
    "import xgboost as xgb\n",
    "from sklearn import svm\n",
    "from sklearn import tree\n",
    "from sklearn.neighbors import KNeighborsClassifier"
   ]
  },
  {
   "cell_type": "code",
   "execution_count": null,
   "metadata": {},
   "outputs": [],
   "source": [
    "import dask.dataframe as dd\n",
    "import joblib\n",
    "\n",
    "df = dd.read_csv('file.csv')#.compute()\n",
    "\n",
    "#X=df[['Mp10','Mp10_cal','Mp2_5','Mp2_5_cal','Humedad','Temperatura']]\n",
    "\n",
    "#y = df['Sector']\n",
    "\n",
    "X = df[['Mp10','Mp10_cal','Mp2_5','Mp2_5_cal','Humedad','Temperatura']].to_dask_array(lengths=True)\n",
    "y = df['Sector'].to_dask_array(lengths=True)\n",
    "\n",
    "from dask_ml.model_selection import train_test_split\n",
    "X_train, X_test, y_train, y_test = train_test_split(X, y, train_size=0.8, random_state=0)#, shuffle=False)"
   ]
  },
  {
   "cell_type": "code",
   "execution_count": null,
   "metadata": {},
   "outputs": [],
   "source": [
    "with joblib.parallel_backend('dask'):\n",
    "    from sklearn.model_selection import cross_validate\n",
    "    from sklearn.metrics import confusion_matrix\n",
    "\n",
    "\n",
    "    # A sample toy binary classification dataset\n",
    "    model = RandomForestClassifier().fit(X_train, y_train)#13\n",
    "    def confusion_matrix_scorer(clf, X_train, y_train):\n",
    "            y_pred = clf.predict(X_train)\n",
    "            cm = confusion_matrix(y_train, y_pred)\n",
    "            return {'tn': cm[0, 0], 'fp': cm[0, 1],\n",
    "                    'fn': cm[1, 0], 'tp': cm[1, 1]}\n",
    "            \n",
    "    cv_results = cross_validate(model, X_train, y_train, cv=10,\n",
    "                                scoring=confusion_matrix_scorer)\n",
    "    # Getting the test set true positive scores\n",
    "    TP = cv_results['test_tp'].mean()\n",
    "\n",
    "    # Getting the test set false negative scores\n",
    "    FN = cv_results['test_fn'].mean()\n",
    "\n",
    "    # Getting the test set false positive scores\n",
    "    FP = cv_results['test_fp'].mean()\n",
    "\n",
    "    # Getting the test set true negative scores\n",
    "    TN = cv_results['test_tn'].mean()"
   ]
  },
  {
   "cell_type": "code",
   "execution_count": null,
   "metadata": {},
   "outputs": [],
   "source": [
    "####TRAINING###\n",
    "acurracy = (TP+TN) / (TP+TN+FP+FN)\n",
    "F1_score = 2*TP / ((2*TP) + (FP + FN))\n",
    "precision = TP / (TP + FP)\n",
    "specificity = TN / (FP + TN)\n",
    "sensitivity_recall = TP / (TP + FN)\n",
    "import math \n",
    "MCC = ((TP*TN) - (FP*FN)) / math.sqrt(((TP+FP)*(TP+FN))*((TN+FP)*(TN+FN)))\n",
    "\n",
    "print(\"Accuracy: \", acurracy)\n",
    "print(\"F1_score: \", F1_score)\n",
    "print(\"Precision: \", precision)\n",
    "print(\"Specificity: \", specificity)\n",
    "print(\"Sensitivity/Recall: \", sensitivity_recall)\n",
    "print(\"MCC: \", MCC)"
   ]
  },
  {
   "cell_type": "code",
   "execution_count": null,
   "metadata": {},
   "outputs": [],
   "source": [
    "####TESTING###\n",
    "from sklearn.metrics import classification_report\n",
    "pred_test=model.predict(X_test)\n",
    "\n",
    "conf = confusion_matrix(y_test, pred_test)\n",
    "TP = conf[1, 1]\n",
    "FP = conf[0, 1]\n",
    "TN = conf[0, 0]\n",
    "FN = conf[1, 0]\n",
    "\n",
    "acurracy = (TP+TN) / (TP+TN+FP+FN)\n",
    "F1_score = 2*TP / ((2*TP) + (FP + FN))\n",
    "precision = TP / (TP + FP)\n",
    "specificity = TN / (FP + TN)\n",
    "sensitivity_recall = TP / (TP + FN)\n",
    "import math \n",
    "MCC = ((TP*TN) - (FP*FN)) / math.sqrt(((TP+FP)*(TP+FN))*((TN+FP)*(TN+FN)))\n",
    "\n",
    "print(\"Accuracy: \", acurracy)\n",
    "print(\"F1_score: \", F1_score)\n",
    "print(\"Precision: \", precision)\n",
    "print(\"Specificity: \", specificity)\n",
    "print(\"Sensitivity/Recall: \", sensitivity_recall)\n",
    "print(\"MCC: \", MCC)"
   ]
  },
  {
   "cell_type": "code",
   "execution_count": null,
   "metadata": {},
   "outputs": [],
   "source": [
    "#CM plot_test\n",
    "import matplotlib.pyplot as plt\n",
    "from sklearn.metrics import ConfusionMatrixDisplay\n",
    "ConfusionMatrixDisplay.from_predictions(y_test, pred_test)\n",
    "plt.show()"
   ]
  }
 ],
 "metadata": {
  "interpreter": {
   "hash": "f380ee5dac3e0a36869bf29adc34b9e4cec42ca98f01940065ee7b8edacbd0d8"
  },
  "kernelspec": {
   "display_name": "Python 3.9.8 64-bit ('DataLab': venv)",
   "language": "python",
   "name": "python3"
  },
  "language_info": {
   "codemirror_mode": {
    "name": "ipython",
    "version": 3
   },
   "file_extension": ".py",
   "mimetype": "text/x-python",
   "name": "python",
   "nbconvert_exporter": "python",
   "pygments_lexer": "ipython3",
   "version": "3.9.8"
  },
  "orig_nbformat": 4
 },
 "nbformat": 4,
 "nbformat_minor": 2
}
